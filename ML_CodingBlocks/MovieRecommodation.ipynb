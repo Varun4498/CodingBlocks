{
 "cells": [
  {
   "cell_type": "code",
   "execution_count": 1,
   "metadata": {},
   "outputs": [],
   "source": [
    "import numpy as np\n",
    "import pandas as pd\n",
    "import warnings"
   ]
  },
  {
   "cell_type": "code",
   "execution_count": 3,
   "metadata": {},
   "outputs": [],
   "source": [
    "warnings.filterwarnings('ignore')"
   ]
  },
  {
   "cell_type": "code",
   "execution_count": 7,
   "metadata": {},
   "outputs": [],
   "source": [
    "columns_name = [\"user_id\",\"item_id\",\"rating\",\"timestamp\"]\n",
    "df = pd.read_csv(\"/Users/varun/Desktop/ML & AI/ML_CodingBlocks/u.data\",sep='\\t',names=columns_name)#As the file is tsv(tab separated)"
   ]
  },
  {
   "cell_type": "code",
   "execution_count": 8,
   "metadata": {},
   "outputs": [
    {
     "output_type": "execute_result",
     "data": {
      "text/plain": "   user_id  item_id  rating  timestamp\n0      196      242       3  881250949\n1      186      302       3  891717742\n2       22      377       1  878887116\n3      244       51       2  880606923\n4      166      346       1  886397596",
      "text/html": "<div>\n<style scoped>\n    .dataframe tbody tr th:only-of-type {\n        vertical-align: middle;\n    }\n\n    .dataframe tbody tr th {\n        vertical-align: top;\n    }\n\n    .dataframe thead th {\n        text-align: right;\n    }\n</style>\n<table border=\"1\" class=\"dataframe\">\n  <thead>\n    <tr style=\"text-align: right;\">\n      <th></th>\n      <th>user_id</th>\n      <th>item_id</th>\n      <th>rating</th>\n      <th>timestamp</th>\n    </tr>\n  </thead>\n  <tbody>\n    <tr>\n      <td>0</td>\n      <td>196</td>\n      <td>242</td>\n      <td>3</td>\n      <td>881250949</td>\n    </tr>\n    <tr>\n      <td>1</td>\n      <td>186</td>\n      <td>302</td>\n      <td>3</td>\n      <td>891717742</td>\n    </tr>\n    <tr>\n      <td>2</td>\n      <td>22</td>\n      <td>377</td>\n      <td>1</td>\n      <td>878887116</td>\n    </tr>\n    <tr>\n      <td>3</td>\n      <td>244</td>\n      <td>51</td>\n      <td>2</td>\n      <td>880606923</td>\n    </tr>\n    <tr>\n      <td>4</td>\n      <td>166</td>\n      <td>346</td>\n      <td>1</td>\n      <td>886397596</td>\n    </tr>\n  </tbody>\n</table>\n</div>"
     },
     "metadata": {},
     "execution_count": 8
    }
   ],
   "source": [
    "df.head()"
   ]
  },
  {
   "cell_type": "code",
   "execution_count": 9,
   "metadata": {},
   "outputs": [
    {
     "output_type": "execute_result",
     "data": {
      "text/plain": "(100000, 4)"
     },
     "metadata": {},
     "execution_count": 9
    }
   ],
   "source": [
    "df.shape"
   ]
  },
  {
   "cell_type": "code",
   "execution_count": 12,
   "metadata": {},
   "outputs": [
    {
     "output_type": "execute_result",
     "data": {
      "text/plain": "943"
     },
     "metadata": {},
     "execution_count": 12
    }
   ],
   "source": [
    "df['user_id'].nunique()"
   ]
  },
  {
   "cell_type": "code",
   "execution_count": 13,
   "metadata": {},
   "outputs": [
    {
     "output_type": "execute_result",
     "data": {
      "text/plain": "1682"
     },
     "metadata": {},
     "execution_count": 13
    }
   ],
   "source": [
    "df['item_id'].nunique()"
   ]
  },
  {
   "cell_type": "code",
   "execution_count": 16,
   "metadata": {},
   "outputs": [],
   "source": [
    "movies_title = pd.read_csv(\"/Users/varun/Desktop/ML & AI/ML_CodingBlocks/u.item\",sep='\\|',header= None)#As the file is psv(pipe separated)"
   ]
  },
  {
   "cell_type": "code",
   "execution_count": 17,
   "metadata": {},
   "outputs": [
    {
     "output_type": "execute_result",
     "data": {
      "text/plain": "(1682, 24)"
     },
     "metadata": {},
     "execution_count": 17
    }
   ],
   "source": [
    "movies_title.shape"
   ]
  },
  {
   "cell_type": "code",
   "execution_count": 18,
   "metadata": {},
   "outputs": [],
   "source": [
    "movies_title = movies_title[[0,1]]"
   ]
  },
  {
   "cell_type": "code",
   "execution_count": 19,
   "metadata": {},
   "outputs": [],
   "source": [
    "movies_title.columns = ['item_id','title']"
   ]
  },
  {
   "cell_type": "code",
   "execution_count": 20,
   "metadata": {},
   "outputs": [
    {
     "output_type": "execute_result",
     "data": {
      "text/plain": "   item_id              title\n0        1   Toy Story (1995)\n1        2   GoldenEye (1995)\n2        3  Four Rooms (1995)\n3        4  Get Shorty (1995)\n4        5     Copycat (1995)",
      "text/html": "<div>\n<style scoped>\n    .dataframe tbody tr th:only-of-type {\n        vertical-align: middle;\n    }\n\n    .dataframe tbody tr th {\n        vertical-align: top;\n    }\n\n    .dataframe thead th {\n        text-align: right;\n    }\n</style>\n<table border=\"1\" class=\"dataframe\">\n  <thead>\n    <tr style=\"text-align: right;\">\n      <th></th>\n      <th>item_id</th>\n      <th>title</th>\n    </tr>\n  </thead>\n  <tbody>\n    <tr>\n      <td>0</td>\n      <td>1</td>\n      <td>Toy Story (1995)</td>\n    </tr>\n    <tr>\n      <td>1</td>\n      <td>2</td>\n      <td>GoldenEye (1995)</td>\n    </tr>\n    <tr>\n      <td>2</td>\n      <td>3</td>\n      <td>Four Rooms (1995)</td>\n    </tr>\n    <tr>\n      <td>3</td>\n      <td>4</td>\n      <td>Get Shorty (1995)</td>\n    </tr>\n    <tr>\n      <td>4</td>\n      <td>5</td>\n      <td>Copycat (1995)</td>\n    </tr>\n  </tbody>\n</table>\n</div>"
     },
     "metadata": {},
     "execution_count": 20
    }
   ],
   "source": [
    "movies_title.head()"
   ]
  },
  {
   "cell_type": "code",
   "execution_count": 21,
   "metadata": {},
   "outputs": [],
   "source": [
    "df = pd.merge(df,movies_title,on=\"item_id\")"
   ]
  },
  {
   "cell_type": "code",
   "execution_count": 22,
   "metadata": {},
   "outputs": [
    {
     "output_type": "execute_result",
     "data": {
      "text/plain": "       user_id  item_id  rating  timestamp  \\\n99995      840     1674       4  891211682   \n99996      655     1640       3  888474646   \n99997      655     1637       3  888984255   \n99998      655     1630       3  887428735   \n99999      655     1641       3  887427810   \n\n                                                   title  \n99995                                  Mamma Roma (1962)  \n99996                             Eighth Day, The (1996)  \n99997                                  Girls Town (1996)  \n99998  Silence of the Palace, The (Saimt el Qusur) (1...  \n99999                                    Dadetown (1995)  ",
      "text/html": "<div>\n<style scoped>\n    .dataframe tbody tr th:only-of-type {\n        vertical-align: middle;\n    }\n\n    .dataframe tbody tr th {\n        vertical-align: top;\n    }\n\n    .dataframe thead th {\n        text-align: right;\n    }\n</style>\n<table border=\"1\" class=\"dataframe\">\n  <thead>\n    <tr style=\"text-align: right;\">\n      <th></th>\n      <th>user_id</th>\n      <th>item_id</th>\n      <th>rating</th>\n      <th>timestamp</th>\n      <th>title</th>\n    </tr>\n  </thead>\n  <tbody>\n    <tr>\n      <td>99995</td>\n      <td>840</td>\n      <td>1674</td>\n      <td>4</td>\n      <td>891211682</td>\n      <td>Mamma Roma (1962)</td>\n    </tr>\n    <tr>\n      <td>99996</td>\n      <td>655</td>\n      <td>1640</td>\n      <td>3</td>\n      <td>888474646</td>\n      <td>Eighth Day, The (1996)</td>\n    </tr>\n    <tr>\n      <td>99997</td>\n      <td>655</td>\n      <td>1637</td>\n      <td>3</td>\n      <td>888984255</td>\n      <td>Girls Town (1996)</td>\n    </tr>\n    <tr>\n      <td>99998</td>\n      <td>655</td>\n      <td>1630</td>\n      <td>3</td>\n      <td>887428735</td>\n      <td>Silence of the Palace, The (Saimt el Qusur) (1...</td>\n    </tr>\n    <tr>\n      <td>99999</td>\n      <td>655</td>\n      <td>1641</td>\n      <td>3</td>\n      <td>887427810</td>\n      <td>Dadetown (1995)</td>\n    </tr>\n  </tbody>\n</table>\n</div>"
     },
     "metadata": {},
     "execution_count": 22
    }
   ],
   "source": [
    "df.tail()"
   ]
  },
  {
   "cell_type": "markdown",
   "metadata": {},
   "source": [
    "# Exploratory Data Analysis"
   ]
  },
  {
   "cell_type": "code",
   "execution_count": 24,
   "metadata": {},
   "outputs": [],
   "source": [
    "import matplotlib.pyplot as plt\n",
    "import seaborn as sns\n",
    "sns.set_style('white')"
   ]
  },
  {
   "cell_type": "code",
   "execution_count": 25,
   "metadata": {},
   "outputs": [
    {
     "output_type": "execute_result",
     "data": {
      "text/plain": "                                          user_id  item_id    rating  \\\ntitle                                                                  \n'Til There Was You (1997)              383.777778   1300.0  2.333333   \n1-900 (1994)                           477.000000   1353.0  2.600000   \n101 Dalmatians (1996)                  450.330275    225.0  2.908257   \n12 Angry Men (1957)                    453.552000    178.0  4.344000   \n187 (1997)                             517.097561    330.0  3.024390   \n...                                           ...      ...       ...   \nYoung Guns II (1990)                   504.068182   1188.0  2.772727   \nYoung Poisoner's Handbook, The (1995)  452.487805    547.0  3.341463   \nZeus and Roxanne (1997)                532.833333   1164.0  2.166667   \nunknown                                311.888889    267.0  3.444444   \n� k�ldum klaka (Cold Fever) (1994)     655.000000   1633.0  3.000000   \n\n                                          timestamp  \ntitle                                                \n'Til There Was You (1997)              8.861152e+08  \n1-900 (1994)                           8.797260e+08  \n101 Dalmatians (1996)                  8.829281e+08  \n12 Angry Men (1957)                    8.828963e+08  \n187 (1997)                             8.850084e+08  \n...                                             ...  \nYoung Guns II (1990)                   8.821855e+08  \nYoung Poisoner's Handbook, The (1995)  8.821438e+08  \nZeus and Roxanne (1997)                8.775338e+08  \nunknown                                8.756379e+08  \n� k�ldum klaka (Cold Fever) (1994)     8.893313e+08  \n\n[1664 rows x 4 columns]",
      "text/html": "<div>\n<style scoped>\n    .dataframe tbody tr th:only-of-type {\n        vertical-align: middle;\n    }\n\n    .dataframe tbody tr th {\n        vertical-align: top;\n    }\n\n    .dataframe thead th {\n        text-align: right;\n    }\n</style>\n<table border=\"1\" class=\"dataframe\">\n  <thead>\n    <tr style=\"text-align: right;\">\n      <th></th>\n      <th>user_id</th>\n      <th>item_id</th>\n      <th>rating</th>\n      <th>timestamp</th>\n    </tr>\n    <tr>\n      <th>title</th>\n      <th></th>\n      <th></th>\n      <th></th>\n      <th></th>\n    </tr>\n  </thead>\n  <tbody>\n    <tr>\n      <td>'Til There Was You (1997)</td>\n      <td>383.777778</td>\n      <td>1300.0</td>\n      <td>2.333333</td>\n      <td>8.861152e+08</td>\n    </tr>\n    <tr>\n      <td>1-900 (1994)</td>\n      <td>477.000000</td>\n      <td>1353.0</td>\n      <td>2.600000</td>\n      <td>8.797260e+08</td>\n    </tr>\n    <tr>\n      <td>101 Dalmatians (1996)</td>\n      <td>450.330275</td>\n      <td>225.0</td>\n      <td>2.908257</td>\n      <td>8.829281e+08</td>\n    </tr>\n    <tr>\n      <td>12 Angry Men (1957)</td>\n      <td>453.552000</td>\n      <td>178.0</td>\n      <td>4.344000</td>\n      <td>8.828963e+08</td>\n    </tr>\n    <tr>\n      <td>187 (1997)</td>\n      <td>517.097561</td>\n      <td>330.0</td>\n      <td>3.024390</td>\n      <td>8.850084e+08</td>\n    </tr>\n    <tr>\n      <td>...</td>\n      <td>...</td>\n      <td>...</td>\n      <td>...</td>\n      <td>...</td>\n    </tr>\n    <tr>\n      <td>Young Guns II (1990)</td>\n      <td>504.068182</td>\n      <td>1188.0</td>\n      <td>2.772727</td>\n      <td>8.821855e+08</td>\n    </tr>\n    <tr>\n      <td>Young Poisoner's Handbook, The (1995)</td>\n      <td>452.487805</td>\n      <td>547.0</td>\n      <td>3.341463</td>\n      <td>8.821438e+08</td>\n    </tr>\n    <tr>\n      <td>Zeus and Roxanne (1997)</td>\n      <td>532.833333</td>\n      <td>1164.0</td>\n      <td>2.166667</td>\n      <td>8.775338e+08</td>\n    </tr>\n    <tr>\n      <td>unknown</td>\n      <td>311.888889</td>\n      <td>267.0</td>\n      <td>3.444444</td>\n      <td>8.756379e+08</td>\n    </tr>\n    <tr>\n      <td>� k�ldum klaka (Cold Fever) (1994)</td>\n      <td>655.000000</td>\n      <td>1633.0</td>\n      <td>3.000000</td>\n      <td>8.893313e+08</td>\n    </tr>\n  </tbody>\n</table>\n<p>1664 rows × 4 columns</p>\n</div>"
     },
     "metadata": {},
     "execution_count": 25
    }
   ],
   "source": [
    "df.groupby('title').mean()"
   ]
  },
  {
   "cell_type": "code",
   "execution_count": null,
   "metadata": {},
   "outputs": [],
   "source": []
  }
 ],
 "metadata": {
  "language_info": {
   "codemirror_mode": {
    "name": "ipython",
    "version": 3
   },
   "file_extension": ".py",
   "mimetype": "text/x-python",
   "name": "python",
   "nbconvert_exporter": "python",
   "pygments_lexer": "ipython3",
   "version": 3
  },
  "orig_nbformat": 2,
  "kernelspec": {
   "name": "python_defaultSpec_1594393886040",
   "display_name": "Python 3.7.4 64-bit ('base': conda)"
  }
 },
 "nbformat": 4,
 "nbformat_minor": 2
}