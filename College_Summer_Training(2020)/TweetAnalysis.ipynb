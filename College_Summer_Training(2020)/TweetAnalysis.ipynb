{
 "cells": [
  {
   "cell_type": "code",
   "execution_count": 1,
   "metadata": {},
   "outputs": [],
   "source": [
    "import pandas as pd \n",
    "df = pd.read_csv(\"training_twitter.csv\")"
   ]
  },
  {
   "cell_type": "code",
   "execution_count": 2,
   "metadata": {},
   "outputs": [
    {
     "output_type": "execute_result",
     "data": {
      "text/plain": "                  tweet_id                                            \\\n                     count          mean           std           min   \nairline_sentiment                                                      \nnegative            6851.0  5.692583e+17  7.577210e+14  5.675900e+17   \nneutral             2327.0  5.691891e+17  8.074668e+14  5.675883e+17   \npositive            1802.0  5.690955e+17  8.102134e+14  5.676555e+17   \n\n                                                                           \\\n                            25%           50%           75%           max   \nairline_sentiment                                                           \nnegative           5.686453e+17  5.695349e+17  5.698810e+17  5.703106e+17   \nneutral            5.684834e+17  5.693177e+17  5.699326e+17  5.703093e+17   \npositive           5.684261e+17  5.691963e+17  5.698717e+17  5.703093e+17   \n\n                  retweet_count                                                \n                          count      mean       std  min  25%  50%  75%   max  \nairline_sentiment                                                              \nnegative                 6851.0  0.095606  0.809287  0.0  0.0  0.0  0.0  44.0  \nneutral                  2327.0  0.058874  0.723317  0.0  0.0  0.0  0.0  28.0  \npositive                 1802.0  0.053829  0.414733  0.0  0.0  0.0  0.0   8.0  ",
      "text/html": "<div>\n<style scoped>\n    .dataframe tbody tr th:only-of-type {\n        vertical-align: middle;\n    }\n\n    .dataframe tbody tr th {\n        vertical-align: top;\n    }\n\n    .dataframe thead tr th {\n        text-align: left;\n    }\n\n    .dataframe thead tr:last-of-type th {\n        text-align: right;\n    }\n</style>\n<table border=\"1\" class=\"dataframe\">\n  <thead>\n    <tr>\n      <th></th>\n      <th colspan=\"8\" halign=\"left\">tweet_id</th>\n      <th colspan=\"8\" halign=\"left\">retweet_count</th>\n    </tr>\n    <tr>\n      <th></th>\n      <th>count</th>\n      <th>mean</th>\n      <th>std</th>\n      <th>min</th>\n      <th>25%</th>\n      <th>50%</th>\n      <th>75%</th>\n      <th>max</th>\n      <th>count</th>\n      <th>mean</th>\n      <th>std</th>\n      <th>min</th>\n      <th>25%</th>\n      <th>50%</th>\n      <th>75%</th>\n      <th>max</th>\n    </tr>\n    <tr>\n      <th>airline_sentiment</th>\n      <th></th>\n      <th></th>\n      <th></th>\n      <th></th>\n      <th></th>\n      <th></th>\n      <th></th>\n      <th></th>\n      <th></th>\n      <th></th>\n      <th></th>\n      <th></th>\n      <th></th>\n      <th></th>\n      <th></th>\n      <th></th>\n    </tr>\n  </thead>\n  <tbody>\n    <tr>\n      <td>negative</td>\n      <td>6851.0</td>\n      <td>5.692583e+17</td>\n      <td>7.577210e+14</td>\n      <td>5.675900e+17</td>\n      <td>5.686453e+17</td>\n      <td>5.695349e+17</td>\n      <td>5.698810e+17</td>\n      <td>5.703106e+17</td>\n      <td>6851.0</td>\n      <td>0.095606</td>\n      <td>0.809287</td>\n      <td>0.0</td>\n      <td>0.0</td>\n      <td>0.0</td>\n      <td>0.0</td>\n      <td>44.0</td>\n    </tr>\n    <tr>\n      <td>neutral</td>\n      <td>2327.0</td>\n      <td>5.691891e+17</td>\n      <td>8.074668e+14</td>\n      <td>5.675883e+17</td>\n      <td>5.684834e+17</td>\n      <td>5.693177e+17</td>\n      <td>5.699326e+17</td>\n      <td>5.703093e+17</td>\n      <td>2327.0</td>\n      <td>0.058874</td>\n      <td>0.723317</td>\n      <td>0.0</td>\n      <td>0.0</td>\n      <td>0.0</td>\n      <td>0.0</td>\n      <td>28.0</td>\n    </tr>\n    <tr>\n      <td>positive</td>\n      <td>1802.0</td>\n      <td>5.690955e+17</td>\n      <td>8.102134e+14</td>\n      <td>5.676555e+17</td>\n      <td>5.684261e+17</td>\n      <td>5.691963e+17</td>\n      <td>5.698717e+17</td>\n      <td>5.703093e+17</td>\n      <td>1802.0</td>\n      <td>0.053829</td>\n      <td>0.414733</td>\n      <td>0.0</td>\n      <td>0.0</td>\n      <td>0.0</td>\n      <td>0.0</td>\n      <td>8.0</td>\n    </tr>\n  </tbody>\n</table>\n</div>"
     },
     "metadata": {},
     "execution_count": 2
    }
   ],
   "source": [
    "df.groupby(df['airline_sentiment']).describe()"
   ]
  },
  {
   "cell_type": "code",
   "execution_count": 3,
   "metadata": {},
   "outputs": [],
   "source": [
    "from sklearn.preprocessing import LabelEncoder\n",
    "c = LabelEncoder()\n",
    "df['airline_sentiment_n'] = c.fit_transform(df['airline_sentiment'])"
   ]
  },
  {
   "cell_type": "code",
   "execution_count": 4,
   "metadata": {},
   "outputs": [],
   "source": [
    "from sklearn.model_selection import train_test_split\n",
    "x_test, x_train, y_test, y_train = train_test_split(df.text, df.airline_sentiment_n, test_size=0.67)"
   ]
  },
  {
   "cell_type": "code",
   "execution_count": 5,
   "metadata": {},
   "outputs": [],
   "source": [
    "from sklearn.feature_extraction.text import CountVectorizer\n",
    "tweet = [\"@united frankly worse customer service ever. Problems will happen, how you deal defines a company. Never again United.\", \"@AmericanAir You guys did an amazing job today! Know it’s hard; thanks to Kate Appleton for all her hard work reFlight Booking Problems my friends and me!\"]"
   ]
  },
  {
   "cell_type": "code",
   "execution_count": 6,
   "metadata": {},
   "outputs": [],
   "source": [
    "from sklearn.pipeline import Pipeline\n",
    "from sklearn.naive_bayes import MultinomialNB\n",
    "p = Pipeline([('vectorizer', CountVectorizer()), ('nb', MultinomialNB())])"
   ]
  },
  {
   "cell_type": "code",
   "execution_count": 7,
   "metadata": {},
   "outputs": [
    {
     "output_type": "execute_result",
     "data": {
      "text/plain": "Pipeline(memory=None,\n         steps=[('vectorizer',\n                 CountVectorizer(analyzer='word', binary=False,\n                                 decode_error='strict',\n                                 dtype=<class 'numpy.int64'>, encoding='utf-8',\n                                 input='content', lowercase=True, max_df=1.0,\n                                 max_features=None, min_df=1,\n                                 ngram_range=(1, 1), preprocessor=None,\n                                 stop_words=None, strip_accents=None,\n                                 token_pattern='(?u)\\\\b\\\\w\\\\w+\\\\b',\n                                 tokenizer=None, vocabulary=None)),\n                ('nb',\n                 MultinomialNB(alpha=1.0, class_prior=None, fit_prior=True))],\n         verbose=False)"
     },
     "metadata": {},
     "execution_count": 7
    }
   ],
   "source": [
    "p.fit(x_train, y_train)"
   ]
  },
  {
   "cell_type": "code",
   "execution_count": 8,
   "metadata": {},
   "outputs": [
    {
     "output_type": "execute_result",
     "data": {
      "text/plain": "0.7612475848744135"
     },
     "metadata": {},
     "execution_count": 8
    }
   ],
   "source": [
    "p.score(x_test, y_test)"
   ]
  },
  {
   "cell_type": "code",
   "execution_count": 9,
   "metadata": {},
   "outputs": [
    {
     "output_type": "execute_result",
     "data": {
      "text/plain": "array([0, 2])"
     },
     "metadata": {},
     "execution_count": 9
    }
   ],
   "source": [
    "p.predict(tweet)  #In the output 0 is for negative, 1 is for neutral and 2 is for positive"
   ]
  },
  {
   "cell_type": "code",
   "execution_count": null,
   "metadata": {},
   "outputs": [],
   "source": []
  }
 ],
 "metadata": {
  "kernelspec": {
   "display_name": "Python 3.7.4 64-bit ('base': conda)",
   "language": "python",
   "name": "python37464bitbaseconda003edec259b845dbb8f810ac83b38efb"
  },
  "language_info": {
   "codemirror_mode": {
    "name": "ipython",
    "version": 3
   },
   "file_extension": ".py",
   "mimetype": "text/x-python",
   "name": "python",
   "nbconvert_exporter": "python",
   "pygments_lexer": "ipython3",
   "version": "3.7.4-final"
  }
 },
 "nbformat": 4,
 "nbformat_minor": 4
}